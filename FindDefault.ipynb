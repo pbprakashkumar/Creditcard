{
  "nbformat": 4,
  "nbformat_minor": 0,
  "metadata": {
    "colab": {
      "provenance": []
    },
    "kernelspec": {
      "name": "python3",
      "display_name": "Python 3"
    },
    "language_info": {
      "name": "python"
    }
  },
  "cells": [
    {
      "cell_type": "markdown",
      "source": [
        "# **FindDefault (Prediction of Credit Card fraud)**"
      ],
      "metadata": {
        "id": "Yon72xxkTPEQ"
      }
    },
    {
      "cell_type": "markdown",
      "source": [
        "# Problem Statement\n",
        "Credit card fraud is a significant issue, with unauthorized transactions causing financial losses for both cardholders and financial institutions. The goal is to develop a classification model capable of accurately predicting fraudulent credit card transactions to prevent such losses and protect customers."
      ],
      "metadata": {
        "id": "nJ0-ZhY_TEaN"
      }
    },
    {
      "cell_type": "markdown",
      "source": [
        "# Objective\n",
        "Develop a machine learning model to predict whether a given credit card transaction is fraudulent."
      ],
      "metadata": {
        "id": "dRbB_TuRS_6N"
      }
    },
    {
      "cell_type": "markdown",
      "source": [
        "# Dataset\n",
        "The dataset consists of credit card transactions made by European cardholders in September 2013. It includes transactions over a two-day period, with a total of 284,807 transactions, of which 492 are fraudulent. The dataset is highly imbalanced, with fraudulent transactions making up only 0.172% of all transactions."
      ],
      "metadata": {
        "id": "f5zKzWBqSgi6"
      }
    },
    {
      "cell_type": "markdown",
      "source": [
        "# Project Steps\n",
        "In this project, we aimed to develop and optimize a Logistic Regression model for classification. The following steps were undertaken to ensure a robust and efficient approach:\n",
        "\n",
        "### Data Preparation:\n",
        "\n",
        "The dataset was split into training and testing sets with an 80-20 ratio, ensuring the target variable was stratified to maintain class balance.\n",
        "\n",
        "### Model Selection:\n",
        "\n",
        "Logistic Regression was chosen due to its simplicity, interpretability, and efficiency for binary classification tasks.\n",
        "\n",
        "### Hyperparameter Tuning:\n",
        "\n",
        "Instead of the exhaustive GridSearchCV, which is computationally expensive, RandomizedSearchCV was used to find the best hyperparameters within the time constraint of 3 minutes. This approach allowed for a more efficient search through the parameter space.\n",
        "\n",
        "### Model Training:\n",
        "\n",
        "The model was trained using the best parameters identified by RandomizedSearchCV, ensuring it was optimized for the given dataset.\n",
        "\n",
        "### Evaluation:\n",
        "\n",
        "The model's performance was evaluated on the test data using various metrics:\n",
        "\n",
        "*Accuracy:* The proportion of correct predictions.\n",
        "\n",
        "*Precision:* The proportion of true positive predictions among all positive predictions.\n",
        "\n",
        "*Recall:* The proportion of true positive predictions among all actual positives.\n",
        "\n",
        "*F1-Score:* The harmonic mean of precision and recall.\n",
        "\n",
        "*ROC-AUC:* The area under the ROC curve, indicating the model's ability to distinguish between classes.\n",
        "\n",
        "*Confusion Matrix:* A table showing the true positives, true negatives, false positives, and false negatives."
      ],
      "metadata": {
        "id": "Fdp0hzC7Rr4l"
      }
    },
    {
      "cell_type": "markdown",
      "source": [
        "# 1.Importing the Dependencies"
      ],
      "metadata": {
        "id": "GiU6QkVwHL_F"
      }
    },
    {
      "cell_type": "code",
      "execution_count": 1,
      "metadata": {
        "id": "jFTs2m4oov7W"
      },
      "outputs": [],
      "source": [
        "import numpy as np\n",
        "import pandas as pd\n",
        "import matplotlib.pyplot as plt\n",
        "import seaborn as sns\n",
        "from sklearn.model_selection import train_test_split, GridSearchCV, StratifiedKFold\n",
        "from sklearn.ensemble import RandomForestClassifier\n",
        "from sklearn.svm import SVC\n",
        "from sklearn.metrics import accuracy_score, precision_score, recall_score, f1_score, roc_auc_score, confusion_matrix\n",
        "from imblearn.over_sampling import SMOTE\n",
        "from sklearn.preprocessing import StandardScaler\n",
        "from sklearn.pipeline import Pipeline"
      ]
    },
    {
      "cell_type": "markdown",
      "source": [
        "# 2.Loading the data"
      ],
      "metadata": {
        "id": "aathFLf4OBMA"
      }
    },
    {
      "cell_type": "code",
      "source": [
        "# loading the dataset to a Pandas DataFrame\n",
        "credit_card_data = pd.read_excel('/content/drive/MyDrive/Colab Notebooks/Creditcard/dataset/credit_card_data.xlsx')"
      ],
      "metadata": {
        "id": "YqtuYWV8fTtY"
      },
      "execution_count": 2,
      "outputs": []
    },
    {
      "cell_type": "markdown",
      "source": [
        "# 3. Exploratory data analysis"
      ],
      "metadata": {
        "id": "mLw-x5CGOHVH"
      }
    },
    {
      "cell_type": "code",
      "source": [
        "# first 5 rows of the dataset\n",
        "print(\"First few rows of data:\\n\", credit_card_data.head())"
      ],
      "metadata": {
        "colab": {
          "base_uri": "https://localhost:8080/"
        },
        "id": "hdam3XWKfUrV",
        "outputId": "ce3d407f-115e-4f96-9fe7-b36e26434beb"
      },
      "execution_count": 3,
      "outputs": [
        {
          "output_type": "stream",
          "name": "stdout",
          "text": [
            "First few rows of data:\n",
            "    Time        V1        V2        V3        V4        V5        V6        V7  \\\n",
            "0     0 -1.359807 -0.072781  2.536347  1.378155 -0.338321  0.462388  0.239599   \n",
            "1     0  1.191857  0.266151  0.166480  0.448154  0.060018 -0.082361 -0.078803   \n",
            "2     1 -1.358354 -1.340163  1.773209  0.379780 -0.503198  1.800499  0.791461   \n",
            "3     1 -0.966272 -0.185226  1.792993 -0.863291 -0.010309  1.247203  0.237609   \n",
            "4     2 -1.158233  0.877737  1.548718  0.403034 -0.407193  0.095921  0.592941   \n",
            "\n",
            "         V8        V9  ...       V21       V22       V23       V24       V25  \\\n",
            "0  0.098698  0.363787  ... -0.018307  0.277838 -0.110474  0.066928  0.128539   \n",
            "1  0.085102 -0.255425  ... -0.225775 -0.638672  0.101288 -0.339846  0.167170   \n",
            "2  0.247676 -1.514654  ...  0.247998  0.771679  0.909412 -0.689281 -0.327642   \n",
            "3  0.377436 -1.387024  ... -0.108300  0.005274 -0.190321 -1.175575  0.647376   \n",
            "4 -0.270533  0.817739  ... -0.009431  0.798278 -0.137458  0.141267 -0.206010   \n",
            "\n",
            "        V26       V27       V28  Amount  Class  \n",
            "0 -0.189115  0.133558 -0.021053  149.62      0  \n",
            "1  0.125895 -0.008983  0.014724    2.69      0  \n",
            "2 -0.139097 -0.055353 -0.059752  378.66      0  \n",
            "3 -0.221929  0.062723  0.061458  123.50      0  \n",
            "4  0.502292  0.219422  0.215153   69.99      0  \n",
            "\n",
            "[5 rows x 31 columns]\n"
          ]
        }
      ]
    },
    {
      "cell_type": "code",
      "source": [
        "# last 5 rows of the dataset\n",
        "print(\"\\nLast few rows of data:\\n\", credit_card_data.tail())"
      ],
      "metadata": {
        "colab": {
          "base_uri": "https://localhost:8080/"
        },
        "id": "uG4e7RU3fUa1",
        "outputId": "61126bf0-8ac1-4a3f-daac-af6a67ac47a5"
      },
      "execution_count": 4,
      "outputs": [
        {
          "output_type": "stream",
          "name": "stdout",
          "text": [
            "\n",
            "Last few rows of data:\n",
            "           Time         V1         V2        V3        V4        V5        V6  \\\n",
            "284802  172786 -11.881118  10.071785 -9.834783 -2.066656 -5.364473 -2.606837   \n",
            "284803  172787  -0.732789  -0.055080  2.035030 -0.738589  0.868229  1.058415   \n",
            "284804  172788   1.919565  -0.301254 -3.249640 -0.557828  2.630515  3.031260   \n",
            "284805  172788  -0.240440   0.530483  0.702510  0.689799 -0.377961  0.623708   \n",
            "284806  172792  -0.533413  -0.189733  0.703337 -0.506271 -0.012546 -0.649617   \n",
            "\n",
            "              V7        V8        V9  ...       V21       V22       V23  \\\n",
            "284802 -4.918215  7.305334  1.914428  ...  0.213454  0.111864  1.014480   \n",
            "284803  0.024330  0.294869  0.584800  ...  0.214205  0.924384  0.012463   \n",
            "284804 -0.296827  0.708417  0.432454  ...  0.232045  0.578229 -0.037501   \n",
            "284805 -0.686180  0.679145  0.392087  ...  0.265245  0.800049 -0.163298   \n",
            "284806  1.577006 -0.414650  0.486180  ...  0.261057  0.643078  0.376777   \n",
            "\n",
            "             V24       V25       V26       V27       V28  Amount  Class  \n",
            "284802 -0.509348  1.436807  0.250034  0.943651  0.823731    0.77      0  \n",
            "284803 -1.016226 -0.606624 -0.395255  0.068472 -0.053527   24.79      0  \n",
            "284804  0.640134  0.265745 -0.087371  0.004455 -0.026561   67.88      0  \n",
            "284805  0.123205 -0.569159  0.546668  0.108821  0.104533   10.00      0  \n",
            "284806  0.008797 -0.473649 -0.818267 -0.002415  0.013649  217.00      0  \n",
            "\n",
            "[5 rows x 31 columns]\n"
          ]
        }
      ]
    },
    {
      "cell_type": "code",
      "source": [
        "# dataset informations\n",
        "print(\"\\nData information:\\n\", credit_card_data.info())"
      ],
      "metadata": {
        "colab": {
          "base_uri": "https://localhost:8080/"
        },
        "id": "uiKuY4mggQtP",
        "outputId": "c8472a7a-4bf2-435a-cdd6-1afb1bf6b7ed"
      },
      "execution_count": 5,
      "outputs": [
        {
          "output_type": "stream",
          "name": "stdout",
          "text": [
            "<class 'pandas.core.frame.DataFrame'>\n",
            "RangeIndex: 284807 entries, 0 to 284806\n",
            "Data columns (total 31 columns):\n",
            " #   Column  Non-Null Count   Dtype  \n",
            "---  ------  --------------   -----  \n",
            " 0   Time    284807 non-null  int64  \n",
            " 1   V1      284807 non-null  float64\n",
            " 2   V2      284807 non-null  float64\n",
            " 3   V3      284807 non-null  float64\n",
            " 4   V4      284807 non-null  float64\n",
            " 5   V5      284807 non-null  float64\n",
            " 6   V6      284807 non-null  float64\n",
            " 7   V7      284807 non-null  float64\n",
            " 8   V8      284807 non-null  float64\n",
            " 9   V9      284807 non-null  float64\n",
            " 10  V10     284807 non-null  float64\n",
            " 11  V11     284807 non-null  float64\n",
            " 12  V12     284807 non-null  float64\n",
            " 13  V13     284807 non-null  float64\n",
            " 14  V14     284807 non-null  float64\n",
            " 15  V15     284807 non-null  float64\n",
            " 16  V16     284807 non-null  float64\n",
            " 17  V17     284807 non-null  float64\n",
            " 18  V18     284807 non-null  float64\n",
            " 19  V19     284807 non-null  float64\n",
            " 20  V20     284807 non-null  float64\n",
            " 21  V21     284807 non-null  float64\n",
            " 22  V22     284807 non-null  float64\n",
            " 23  V23     284807 non-null  float64\n",
            " 24  V24     284807 non-null  float64\n",
            " 25  V25     284807 non-null  float64\n",
            " 26  V26     284807 non-null  float64\n",
            " 27  V27     284807 non-null  float64\n",
            " 28  V28     284807 non-null  float64\n",
            " 29  Amount  284807 non-null  float64\n",
            " 30  Class   284807 non-null  int64  \n",
            "dtypes: float64(29), int64(2)\n",
            "memory usage: 67.4 MB\n",
            "\n",
            "Data information:\n",
            " None\n"
          ]
        }
      ]
    },
    {
      "cell_type": "markdown",
      "source": [
        "# 4.Data Preprocessing\n"
      ],
      "metadata": {
        "id": "--4CznWeOv0F"
      }
    },
    {
      "cell_type": "code",
      "source": [
        "# checking the number of missing values in each column\n",
        "print(\"\\nNumber of missing values:\\n\", credit_card_data.isnull().sum())"
      ],
      "metadata": {
        "colab": {
          "base_uri": "https://localhost:8080/"
        },
        "id": "0dP-KZZqgQDI",
        "outputId": "8973b828-d43b-4893-be80-f3714d7623d8"
      },
      "execution_count": 6,
      "outputs": [
        {
          "output_type": "stream",
          "name": "stdout",
          "text": [
            "\n",
            "Number of missing values:\n",
            " Time      0\n",
            "V1        0\n",
            "V2        0\n",
            "V3        0\n",
            "V4        0\n",
            "V5        0\n",
            "V6        0\n",
            "V7        0\n",
            "V8        0\n",
            "V9        0\n",
            "V10       0\n",
            "V11       0\n",
            "V12       0\n",
            "V13       0\n",
            "V14       0\n",
            "V15       0\n",
            "V16       0\n",
            "V17       0\n",
            "V18       0\n",
            "V19       0\n",
            "V20       0\n",
            "V21       0\n",
            "V22       0\n",
            "V23       0\n",
            "V24       0\n",
            "V25       0\n",
            "V26       0\n",
            "V27       0\n",
            "V28       0\n",
            "Amount    0\n",
            "Class     0\n",
            "dtype: int64\n"
          ]
        }
      ]
    },
    {
      "cell_type": "code",
      "source": [
        "# distribution of legit transactions & fraudulent transactions\n",
        "print(\"\\nClass distribution:\\n\", credit_card_data['Class'].value_counts())"
      ],
      "metadata": {
        "colab": {
          "base_uri": "https://localhost:8080/"
        },
        "id": "r884S0yWfTgH",
        "outputId": "e5458404-0405-4028-b38c-2c785ea66178"
      },
      "execution_count": 7,
      "outputs": [
        {
          "output_type": "stream",
          "name": "stdout",
          "text": [
            "\n",
            "Class distribution:\n",
            " Class\n",
            "0    284315\n",
            "1       492\n",
            "Name: count, dtype: int64\n"
          ]
        }
      ]
    },
    {
      "cell_type": "code",
      "source": [
        "# Separate features and target variable\n",
        "X = credit_card_data.drop(columns='Class', axis=1)\n",
        "Y = credit_card_data['Class']"
      ],
      "metadata": {
        "id": "a_8iwzv8fU3C"
      },
      "execution_count": 8,
      "outputs": []
    },
    {
      "cell_type": "code",
      "source": [
        "# Handle missing values (if any) - Example: fill with mean\n",
        "print(X.fillna(X.mean(), inplace=True))"
      ],
      "metadata": {
        "colab": {
          "base_uri": "https://localhost:8080/"
        },
        "id": "1M53VKqqfTKe",
        "outputId": "221dca85-9c7a-4703-ad69-73b4d09ad9ec"
      },
      "execution_count": 9,
      "outputs": [
        {
          "output_type": "stream",
          "name": "stdout",
          "text": [
            "None\n"
          ]
        }
      ]
    },
    {
      "cell_type": "code",
      "source": [
        "#here we use drop_duplicate method to drop duplcate value but here we have not duplicate value\n",
        "dup=credit_card_data.drop_duplicates(keep=False,inplace=True)\n",
        "print(dup)"
      ],
      "metadata": {
        "colab": {
          "base_uri": "https://localhost:8080/"
        },
        "id": "S6aBQrCTgss0",
        "outputId": "840779de-df12-43db-d5b2-5e75774639cc"
      },
      "execution_count": 10,
      "outputs": [
        {
          "output_type": "stream",
          "name": "stdout",
          "text": [
            "None\n"
          ]
        }
      ]
    },
    {
      "cell_type": "code",
      "source": [
        "len(credit_card_data)"
      ],
      "metadata": {
        "colab": {
          "base_uri": "https://localhost:8080/"
        },
        "id": "IqxXHXPwgslY",
        "outputId": "1f3fb930-e39a-428c-e583-e564aa8c4e4a"
      },
      "execution_count": 11,
      "outputs": [
        {
          "output_type": "execute_result",
          "data": {
            "text/plain": [
              "282953"
            ]
          },
          "metadata": {},
          "execution_count": 11
        }
      ]
    },
    {
      "cell_type": "code",
      "source": [
        "#here we see we have no any null value\n",
        "credit_card_data.isnull().values.any()"
      ],
      "metadata": {
        "colab": {
          "base_uri": "https://localhost:8080/"
        },
        "id": "QjpybF-1gsfd",
        "outputId": "89280dc3-4305-48fc-eb9d-3f81f71c184f"
      },
      "execution_count": 12,
      "outputs": [
        {
          "output_type": "execute_result",
          "data": {
            "text/plain": [
              "False"
            ]
          },
          "metadata": {},
          "execution_count": 12
        }
      ]
    },
    {
      "cell_type": "code",
      "source": [
        "dro=credit_card_data.dropna()\n",
        "dro.head()"
      ],
      "metadata": {
        "colab": {
          "base_uri": "https://localhost:8080/",
          "height": 255
        },
        "id": "SSK5CtG_gsZU",
        "outputId": "bad8c970-65f1-4d03-dd66-a2f15d7b1ac2"
      },
      "execution_count": 13,
      "outputs": [
        {
          "output_type": "execute_result",
          "data": {
            "text/plain": [
              "   Time        V1        V2        V3        V4        V5        V6        V7  \\\n",
              "0     0 -1.359807 -0.072781  2.536347  1.378155 -0.338321  0.462388  0.239599   \n",
              "1     0  1.191857  0.266151  0.166480  0.448154  0.060018 -0.082361 -0.078803   \n",
              "2     1 -1.358354 -1.340163  1.773209  0.379780 -0.503198  1.800499  0.791461   \n",
              "3     1 -0.966272 -0.185226  1.792993 -0.863291 -0.010309  1.247203  0.237609   \n",
              "4     2 -1.158233  0.877737  1.548718  0.403034 -0.407193  0.095921  0.592941   \n",
              "\n",
              "         V8        V9  ...       V21       V22       V23       V24       V25  \\\n",
              "0  0.098698  0.363787  ... -0.018307  0.277838 -0.110474  0.066928  0.128539   \n",
              "1  0.085102 -0.255425  ... -0.225775 -0.638672  0.101288 -0.339846  0.167170   \n",
              "2  0.247676 -1.514654  ...  0.247998  0.771679  0.909412 -0.689281 -0.327642   \n",
              "3  0.377436 -1.387024  ... -0.108300  0.005274 -0.190321 -1.175575  0.647376   \n",
              "4 -0.270533  0.817739  ... -0.009431  0.798278 -0.137458  0.141267 -0.206010   \n",
              "\n",
              "        V26       V27       V28  Amount  Class  \n",
              "0 -0.189115  0.133558 -0.021053  149.62      0  \n",
              "1  0.125895 -0.008983  0.014724    2.69      0  \n",
              "2 -0.139097 -0.055353 -0.059752  378.66      0  \n",
              "3 -0.221929  0.062723  0.061458  123.50      0  \n",
              "4  0.502292  0.219422  0.215153   69.99      0  \n",
              "\n",
              "[5 rows x 31 columns]"
            ],
            "text/html": [
              "\n",
              "  <div id=\"df-0730deef-736b-4c33-9173-3eeb1ce8a5f5\" class=\"colab-df-container\">\n",
              "    <div>\n",
              "<style scoped>\n",
              "    .dataframe tbody tr th:only-of-type {\n",
              "        vertical-align: middle;\n",
              "    }\n",
              "\n",
              "    .dataframe tbody tr th {\n",
              "        vertical-align: top;\n",
              "    }\n",
              "\n",
              "    .dataframe thead th {\n",
              "        text-align: right;\n",
              "    }\n",
              "</style>\n",
              "<table border=\"1\" class=\"dataframe\">\n",
              "  <thead>\n",
              "    <tr style=\"text-align: right;\">\n",
              "      <th></th>\n",
              "      <th>Time</th>\n",
              "      <th>V1</th>\n",
              "      <th>V2</th>\n",
              "      <th>V3</th>\n",
              "      <th>V4</th>\n",
              "      <th>V5</th>\n",
              "      <th>V6</th>\n",
              "      <th>V7</th>\n",
              "      <th>V8</th>\n",
              "      <th>V9</th>\n",
              "      <th>...</th>\n",
              "      <th>V21</th>\n",
              "      <th>V22</th>\n",
              "      <th>V23</th>\n",
              "      <th>V24</th>\n",
              "      <th>V25</th>\n",
              "      <th>V26</th>\n",
              "      <th>V27</th>\n",
              "      <th>V28</th>\n",
              "      <th>Amount</th>\n",
              "      <th>Class</th>\n",
              "    </tr>\n",
              "  </thead>\n",
              "  <tbody>\n",
              "    <tr>\n",
              "      <th>0</th>\n",
              "      <td>0</td>\n",
              "      <td>-1.359807</td>\n",
              "      <td>-0.072781</td>\n",
              "      <td>2.536347</td>\n",
              "      <td>1.378155</td>\n",
              "      <td>-0.338321</td>\n",
              "      <td>0.462388</td>\n",
              "      <td>0.239599</td>\n",
              "      <td>0.098698</td>\n",
              "      <td>0.363787</td>\n",
              "      <td>...</td>\n",
              "      <td>-0.018307</td>\n",
              "      <td>0.277838</td>\n",
              "      <td>-0.110474</td>\n",
              "      <td>0.066928</td>\n",
              "      <td>0.128539</td>\n",
              "      <td>-0.189115</td>\n",
              "      <td>0.133558</td>\n",
              "      <td>-0.021053</td>\n",
              "      <td>149.62</td>\n",
              "      <td>0</td>\n",
              "    </tr>\n",
              "    <tr>\n",
              "      <th>1</th>\n",
              "      <td>0</td>\n",
              "      <td>1.191857</td>\n",
              "      <td>0.266151</td>\n",
              "      <td>0.166480</td>\n",
              "      <td>0.448154</td>\n",
              "      <td>0.060018</td>\n",
              "      <td>-0.082361</td>\n",
              "      <td>-0.078803</td>\n",
              "      <td>0.085102</td>\n",
              "      <td>-0.255425</td>\n",
              "      <td>...</td>\n",
              "      <td>-0.225775</td>\n",
              "      <td>-0.638672</td>\n",
              "      <td>0.101288</td>\n",
              "      <td>-0.339846</td>\n",
              "      <td>0.167170</td>\n",
              "      <td>0.125895</td>\n",
              "      <td>-0.008983</td>\n",
              "      <td>0.014724</td>\n",
              "      <td>2.69</td>\n",
              "      <td>0</td>\n",
              "    </tr>\n",
              "    <tr>\n",
              "      <th>2</th>\n",
              "      <td>1</td>\n",
              "      <td>-1.358354</td>\n",
              "      <td>-1.340163</td>\n",
              "      <td>1.773209</td>\n",
              "      <td>0.379780</td>\n",
              "      <td>-0.503198</td>\n",
              "      <td>1.800499</td>\n",
              "      <td>0.791461</td>\n",
              "      <td>0.247676</td>\n",
              "      <td>-1.514654</td>\n",
              "      <td>...</td>\n",
              "      <td>0.247998</td>\n",
              "      <td>0.771679</td>\n",
              "      <td>0.909412</td>\n",
              "      <td>-0.689281</td>\n",
              "      <td>-0.327642</td>\n",
              "      <td>-0.139097</td>\n",
              "      <td>-0.055353</td>\n",
              "      <td>-0.059752</td>\n",
              "      <td>378.66</td>\n",
              "      <td>0</td>\n",
              "    </tr>\n",
              "    <tr>\n",
              "      <th>3</th>\n",
              "      <td>1</td>\n",
              "      <td>-0.966272</td>\n",
              "      <td>-0.185226</td>\n",
              "      <td>1.792993</td>\n",
              "      <td>-0.863291</td>\n",
              "      <td>-0.010309</td>\n",
              "      <td>1.247203</td>\n",
              "      <td>0.237609</td>\n",
              "      <td>0.377436</td>\n",
              "      <td>-1.387024</td>\n",
              "      <td>...</td>\n",
              "      <td>-0.108300</td>\n",
              "      <td>0.005274</td>\n",
              "      <td>-0.190321</td>\n",
              "      <td>-1.175575</td>\n",
              "      <td>0.647376</td>\n",
              "      <td>-0.221929</td>\n",
              "      <td>0.062723</td>\n",
              "      <td>0.061458</td>\n",
              "      <td>123.50</td>\n",
              "      <td>0</td>\n",
              "    </tr>\n",
              "    <tr>\n",
              "      <th>4</th>\n",
              "      <td>2</td>\n",
              "      <td>-1.158233</td>\n",
              "      <td>0.877737</td>\n",
              "      <td>1.548718</td>\n",
              "      <td>0.403034</td>\n",
              "      <td>-0.407193</td>\n",
              "      <td>0.095921</td>\n",
              "      <td>0.592941</td>\n",
              "      <td>-0.270533</td>\n",
              "      <td>0.817739</td>\n",
              "      <td>...</td>\n",
              "      <td>-0.009431</td>\n",
              "      <td>0.798278</td>\n",
              "      <td>-0.137458</td>\n",
              "      <td>0.141267</td>\n",
              "      <td>-0.206010</td>\n",
              "      <td>0.502292</td>\n",
              "      <td>0.219422</td>\n",
              "      <td>0.215153</td>\n",
              "      <td>69.99</td>\n",
              "      <td>0</td>\n",
              "    </tr>\n",
              "  </tbody>\n",
              "</table>\n",
              "<p>5 rows × 31 columns</p>\n",
              "</div>\n",
              "    <div class=\"colab-df-buttons\">\n",
              "\n",
              "  <div class=\"colab-df-container\">\n",
              "    <button class=\"colab-df-convert\" onclick=\"convertToInteractive('df-0730deef-736b-4c33-9173-3eeb1ce8a5f5')\"\n",
              "            title=\"Convert this dataframe to an interactive table.\"\n",
              "            style=\"display:none;\">\n",
              "\n",
              "  <svg xmlns=\"http://www.w3.org/2000/svg\" height=\"24px\" viewBox=\"0 -960 960 960\">\n",
              "    <path d=\"M120-120v-720h720v720H120Zm60-500h600v-160H180v160Zm220 220h160v-160H400v160Zm0 220h160v-160H400v160ZM180-400h160v-160H180v160Zm440 0h160v-160H620v160ZM180-180h160v-160H180v160Zm440 0h160v-160H620v160Z\"/>\n",
              "  </svg>\n",
              "    </button>\n",
              "\n",
              "  <style>\n",
              "    .colab-df-container {\n",
              "      display:flex;\n",
              "      gap: 12px;\n",
              "    }\n",
              "\n",
              "    .colab-df-convert {\n",
              "      background-color: #E8F0FE;\n",
              "      border: none;\n",
              "      border-radius: 50%;\n",
              "      cursor: pointer;\n",
              "      display: none;\n",
              "      fill: #1967D2;\n",
              "      height: 32px;\n",
              "      padding: 0 0 0 0;\n",
              "      width: 32px;\n",
              "    }\n",
              "\n",
              "    .colab-df-convert:hover {\n",
              "      background-color: #E2EBFA;\n",
              "      box-shadow: 0px 1px 2px rgba(60, 64, 67, 0.3), 0px 1px 3px 1px rgba(60, 64, 67, 0.15);\n",
              "      fill: #174EA6;\n",
              "    }\n",
              "\n",
              "    .colab-df-buttons div {\n",
              "      margin-bottom: 4px;\n",
              "    }\n",
              "\n",
              "    [theme=dark] .colab-df-convert {\n",
              "      background-color: #3B4455;\n",
              "      fill: #D2E3FC;\n",
              "    }\n",
              "\n",
              "    [theme=dark] .colab-df-convert:hover {\n",
              "      background-color: #434B5C;\n",
              "      box-shadow: 0px 1px 3px 1px rgba(0, 0, 0, 0.15);\n",
              "      filter: drop-shadow(0px 1px 2px rgba(0, 0, 0, 0.3));\n",
              "      fill: #FFFFFF;\n",
              "    }\n",
              "  </style>\n",
              "\n",
              "    <script>\n",
              "      const buttonEl =\n",
              "        document.querySelector('#df-0730deef-736b-4c33-9173-3eeb1ce8a5f5 button.colab-df-convert');\n",
              "      buttonEl.style.display =\n",
              "        google.colab.kernel.accessAllowed ? 'block' : 'none';\n",
              "\n",
              "      async function convertToInteractive(key) {\n",
              "        const element = document.querySelector('#df-0730deef-736b-4c33-9173-3eeb1ce8a5f5');\n",
              "        const dataTable =\n",
              "          await google.colab.kernel.invokeFunction('convertToInteractive',\n",
              "                                                    [key], {});\n",
              "        if (!dataTable) return;\n",
              "\n",
              "        const docLinkHtml = 'Like what you see? Visit the ' +\n",
              "          '<a target=\"_blank\" href=https://colab.research.google.com/notebooks/data_table.ipynb>data table notebook</a>'\n",
              "          + ' to learn more about interactive tables.';\n",
              "        element.innerHTML = '';\n",
              "        dataTable['output_type'] = 'display_data';\n",
              "        await google.colab.output.renderOutput(dataTable, element);\n",
              "        const docLink = document.createElement('div');\n",
              "        docLink.innerHTML = docLinkHtml;\n",
              "        element.appendChild(docLink);\n",
              "      }\n",
              "    </script>\n",
              "  </div>\n",
              "\n",
              "\n",
              "<div id=\"df-fc6f3b0a-1f5b-4670-b192-41bea424a287\">\n",
              "  <button class=\"colab-df-quickchart\" onclick=\"quickchart('df-fc6f3b0a-1f5b-4670-b192-41bea424a287')\"\n",
              "            title=\"Suggest charts\"\n",
              "            style=\"display:none;\">\n",
              "\n",
              "<svg xmlns=\"http://www.w3.org/2000/svg\" height=\"24px\"viewBox=\"0 0 24 24\"\n",
              "     width=\"24px\">\n",
              "    <g>\n",
              "        <path d=\"M19 3H5c-1.1 0-2 .9-2 2v14c0 1.1.9 2 2 2h14c1.1 0 2-.9 2-2V5c0-1.1-.9-2-2-2zM9 17H7v-7h2v7zm4 0h-2V7h2v10zm4 0h-2v-4h2v4z\"/>\n",
              "    </g>\n",
              "</svg>\n",
              "  </button>\n",
              "\n",
              "<style>\n",
              "  .colab-df-quickchart {\n",
              "      --bg-color: #E8F0FE;\n",
              "      --fill-color: #1967D2;\n",
              "      --hover-bg-color: #E2EBFA;\n",
              "      --hover-fill-color: #174EA6;\n",
              "      --disabled-fill-color: #AAA;\n",
              "      --disabled-bg-color: #DDD;\n",
              "  }\n",
              "\n",
              "  [theme=dark] .colab-df-quickchart {\n",
              "      --bg-color: #3B4455;\n",
              "      --fill-color: #D2E3FC;\n",
              "      --hover-bg-color: #434B5C;\n",
              "      --hover-fill-color: #FFFFFF;\n",
              "      --disabled-bg-color: #3B4455;\n",
              "      --disabled-fill-color: #666;\n",
              "  }\n",
              "\n",
              "  .colab-df-quickchart {\n",
              "    background-color: var(--bg-color);\n",
              "    border: none;\n",
              "    border-radius: 50%;\n",
              "    cursor: pointer;\n",
              "    display: none;\n",
              "    fill: var(--fill-color);\n",
              "    height: 32px;\n",
              "    padding: 0;\n",
              "    width: 32px;\n",
              "  }\n",
              "\n",
              "  .colab-df-quickchart:hover {\n",
              "    background-color: var(--hover-bg-color);\n",
              "    box-shadow: 0 1px 2px rgba(60, 64, 67, 0.3), 0 1px 3px 1px rgba(60, 64, 67, 0.15);\n",
              "    fill: var(--button-hover-fill-color);\n",
              "  }\n",
              "\n",
              "  .colab-df-quickchart-complete:disabled,\n",
              "  .colab-df-quickchart-complete:disabled:hover {\n",
              "    background-color: var(--disabled-bg-color);\n",
              "    fill: var(--disabled-fill-color);\n",
              "    box-shadow: none;\n",
              "  }\n",
              "\n",
              "  .colab-df-spinner {\n",
              "    border: 2px solid var(--fill-color);\n",
              "    border-color: transparent;\n",
              "    border-bottom-color: var(--fill-color);\n",
              "    animation:\n",
              "      spin 1s steps(1) infinite;\n",
              "  }\n",
              "\n",
              "  @keyframes spin {\n",
              "    0% {\n",
              "      border-color: transparent;\n",
              "      border-bottom-color: var(--fill-color);\n",
              "      border-left-color: var(--fill-color);\n",
              "    }\n",
              "    20% {\n",
              "      border-color: transparent;\n",
              "      border-left-color: var(--fill-color);\n",
              "      border-top-color: var(--fill-color);\n",
              "    }\n",
              "    30% {\n",
              "      border-color: transparent;\n",
              "      border-left-color: var(--fill-color);\n",
              "      border-top-color: var(--fill-color);\n",
              "      border-right-color: var(--fill-color);\n",
              "    }\n",
              "    40% {\n",
              "      border-color: transparent;\n",
              "      border-right-color: var(--fill-color);\n",
              "      border-top-color: var(--fill-color);\n",
              "    }\n",
              "    60% {\n",
              "      border-color: transparent;\n",
              "      border-right-color: var(--fill-color);\n",
              "    }\n",
              "    80% {\n",
              "      border-color: transparent;\n",
              "      border-right-color: var(--fill-color);\n",
              "      border-bottom-color: var(--fill-color);\n",
              "    }\n",
              "    90% {\n",
              "      border-color: transparent;\n",
              "      border-bottom-color: var(--fill-color);\n",
              "    }\n",
              "  }\n",
              "</style>\n",
              "\n",
              "  <script>\n",
              "    async function quickchart(key) {\n",
              "      const quickchartButtonEl =\n",
              "        document.querySelector('#' + key + ' button');\n",
              "      quickchartButtonEl.disabled = true;  // To prevent multiple clicks.\n",
              "      quickchartButtonEl.classList.add('colab-df-spinner');\n",
              "      try {\n",
              "        const charts = await google.colab.kernel.invokeFunction(\n",
              "            'suggestCharts', [key], {});\n",
              "      } catch (error) {\n",
              "        console.error('Error during call to suggestCharts:', error);\n",
              "      }\n",
              "      quickchartButtonEl.classList.remove('colab-df-spinner');\n",
              "      quickchartButtonEl.classList.add('colab-df-quickchart-complete');\n",
              "    }\n",
              "    (() => {\n",
              "      let quickchartButtonEl =\n",
              "        document.querySelector('#df-fc6f3b0a-1f5b-4670-b192-41bea424a287 button');\n",
              "      quickchartButtonEl.style.display =\n",
              "        google.colab.kernel.accessAllowed ? 'block' : 'none';\n",
              "    })();\n",
              "  </script>\n",
              "</div>\n",
              "\n",
              "    </div>\n",
              "  </div>\n"
            ],
            "application/vnd.google.colaboratory.intrinsic+json": {
              "type": "dataframe",
              "variable_name": "dro"
            }
          },
          "metadata": {},
          "execution_count": 13
        }
      ]
    },
    {
      "cell_type": "code",
      "source": [
        "#Here we have no any NAN values in our dataset\n",
        "len(dro)"
      ],
      "metadata": {
        "colab": {
          "base_uri": "https://localhost:8080/"
        },
        "id": "gLS3v7FVgsRp",
        "outputId": "a2993cc3-77f3-451b-e93a-4e5d12793153"
      },
      "execution_count": 14,
      "outputs": [
        {
          "output_type": "execute_result",
          "data": {
            "text/plain": [
              "282953"
            ]
          },
          "metadata": {},
          "execution_count": 14
        }
      ]
    },
    {
      "cell_type": "code",
      "source": [
        "legit = credit_card_data[credit_card_data.Class == 0]\n",
        "fraud = credit_card_data[credit_card_data.Class == 1]"
      ],
      "metadata": {
        "id": "B0XxEb-agsJN"
      },
      "execution_count": 16,
      "outputs": []
    },
    {
      "cell_type": "code",
      "source": [
        "print(legit.shape)\n",
        "print(fraud.shape)"
      ],
      "metadata": {
        "colab": {
          "base_uri": "https://localhost:8080/"
        },
        "id": "KJGJgD8ChiUg",
        "outputId": "6cf3a3ba-893f-4991-fa5f-4ce9e6b0a5f1"
      },
      "execution_count": 17,
      "outputs": [
        {
          "output_type": "stream",
          "name": "stdout",
          "text": [
            "(282493, 31)\n",
            "(460, 31)\n"
          ]
        }
      ]
    },
    {
      "cell_type": "code",
      "source": [
        "# statistical measures of the data\n",
        "print(legit.Amount.describe())"
      ],
      "metadata": {
        "colab": {
          "base_uri": "https://localhost:8080/"
        },
        "id": "QG9MiXoihiNe",
        "outputId": "babf0d96-d809-4052-9969-79549c70ebe9"
      },
      "execution_count": 18,
      "outputs": [
        {
          "output_type": "stream",
          "name": "stdout",
          "text": [
            "count    282493.000000\n",
            "mean         88.476932\n",
            "std         250.543853\n",
            "min           0.000000\n",
            "25%           5.640000\n",
            "50%          22.000000\n",
            "75%          77.600000\n",
            "max       25691.160000\n",
            "Name: Amount, dtype: float64\n"
          ]
        }
      ]
    },
    {
      "cell_type": "code",
      "source": [
        "# statistical measures of the data\n",
        "print(fraud.Amount.describe())"
      ],
      "metadata": {
        "colab": {
          "base_uri": "https://localhost:8080/"
        },
        "id": "EUBqI-MghiD9",
        "outputId": "3d84a52c-ef38-4e1d-fe24-88349dd35436"
      },
      "execution_count": 19,
      "outputs": [
        {
          "output_type": "stream",
          "name": "stdout",
          "text": [
            "count     460.000000\n",
            "mean      124.045239\n",
            "std       262.620752\n",
            "min         0.000000\n",
            "25%         1.000000\n",
            "50%         9.250000\n",
            "75%       105.890000\n",
            "max      2125.870000\n",
            "Name: Amount, dtype: float64\n"
          ]
        }
      ]
    },
    {
      "cell_type": "code",
      "source": [
        "# compare the values for both transactions\n",
        "print(credit_card_data.groupby('Class').mean())"
      ],
      "metadata": {
        "colab": {
          "base_uri": "https://localhost:8080/"
        },
        "id": "YqtfCYO8hh_g",
        "outputId": "885cef45-e348-495a-8386-083c40d4a6f5"
      },
      "execution_count": 20,
      "outputs": [
        {
          "output_type": "stream",
          "name": "stdout",
          "text": [
            "               Time        V1        V2        V3        V4        V5  \\\n",
            "Class                                                                   \n",
            "0      94840.240208  0.017304 -0.012241  0.013551 -0.011850  0.007926   \n",
            "1      80087.628261 -4.376653  3.311484 -6.534364  4.407571 -2.830642   \n",
            "\n",
            "             V6        V7       V8        V9  ...       V20       V21  \\\n",
            "Class                                         ...                       \n",
            "0      0.000553  0.011110 -0.00363  0.001367  ... -0.000208 -0.000959   \n",
            "1     -1.406285 -4.986946  0.97551 -2.470670  ...  0.416612  0.394720   \n",
            "\n",
            "            V22       V23       V24       V25       V26       V27       V28  \\\n",
            "Class                                                                         \n",
            "0      0.000020  0.000503  0.000554 -0.000410  0.000247  0.002449  0.000607   \n",
            "1      0.100917 -0.105252 -0.111322  0.038273  0.043374  0.236649  0.082442   \n",
            "\n",
            "           Amount  \n",
            "Class              \n",
            "0       88.476932  \n",
            "1      124.045239  \n",
            "\n",
            "[2 rows x 30 columns]\n"
          ]
        }
      ]
    },
    {
      "cell_type": "code",
      "source": [
        "#first we distribute our dataset into one variable\n",
        "x=dro.drop(['Class','Time'],axis='columns').values\n",
        "\n",
        "y=dro.Class.values\n"
      ],
      "metadata": {
        "id": "wB_acCLahh69"
      },
      "execution_count": 21,
      "outputs": []
    },
    {
      "cell_type": "markdown",
      "source": [
        "# 5. Data Normalization\n"
      ],
      "metadata": {
        "id": "Oblm3oy4O9r8"
      }
    },
    {
      "cell_type": "code",
      "source": [
        "# Now we Normalze our dataset\n",
        "from sklearn import preprocessing\n",
        " #returns a numpy array\n",
        "min_max_scaler = preprocessing.MinMaxScaler()\n",
        "x_scaled = min_max_scaler.fit_transform(x)\n",
        "Norm=pd.DataFrame(x_scaled,index=dro.index,columns=dro.columns[0:29])\n",
        "Norm['Class']=dro['Class']\n",
        "Norm['Time']=dro['Time']\n",
        "Norm.head()\n",
        "\n",
        "#after the normalization we apply squirel algorithm to find the feature"
      ],
      "metadata": {
        "colab": {
          "base_uri": "https://localhost:8080/",
          "height": 255
        },
        "id": "rb07ZKFMhh0E",
        "outputId": "d1f3322f-2546-41a8-a6d7-331ff27ec92c"
      },
      "execution_count": 22,
      "outputs": [
        {
          "output_type": "execute_result",
          "data": {
            "text/plain": [
              "   Time        V1        V2        V3        V4        V5        V6        V7  \\\n",
              "0     0  0.766490  0.881365  0.313023  0.763439  0.267669  0.266815  0.786444   \n",
              "1     0  0.770067  0.840298  0.271796  0.766120  0.262192  0.264875  0.786298   \n",
              "2     1  0.753118  0.868141  0.268766  0.762329  0.281122  0.270177  0.788042   \n",
              "3     1  0.765304  0.868484  0.213661  0.765647  0.275559  0.266803  0.789434   \n",
              "4     2  0.776520  0.864251  0.269796  0.762975  0.263984  0.268968  0.782484   \n",
              "\n",
              "         V8        V9  ...       V20       V21       V22       V23       V24  \\\n",
              "0  0.475312  0.510600  ...  0.606004  0.522992  0.663793  0.391253  0.585122   \n",
              "1  0.453981  0.505267  ...  0.602393  0.480237  0.666938  0.336440  0.587290   \n",
              "2  0.410603  0.513018  ...  0.610640  0.546030  0.678939  0.289354  0.559515   \n",
              "3  0.414999  0.507585  ...  0.604438  0.510277  0.662607  0.223826  0.614245   \n",
              "4  0.490950  0.524303  ...  0.606159  0.547271  0.663392  0.401270  0.566343   \n",
              "\n",
              "        V25       V26       V27       V28  Class  \n",
              "0  0.394557  0.418976  0.312697  0.005824      0  \n",
              "1  0.446013  0.416345  0.313423  0.000105      0  \n",
              "2  0.402727  0.415489  0.311911  0.014739      0  \n",
              "3  0.389197  0.417669  0.314371  0.004807      0  \n",
              "4  0.507497  0.420561  0.317490  0.002724      0  \n",
              "\n",
              "[5 rows x 30 columns]"
            ],
            "text/html": [
              "\n",
              "  <div id=\"df-6df58ec7-3808-46df-94eb-284a80f5144c\" class=\"colab-df-container\">\n",
              "    <div>\n",
              "<style scoped>\n",
              "    .dataframe tbody tr th:only-of-type {\n",
              "        vertical-align: middle;\n",
              "    }\n",
              "\n",
              "    .dataframe tbody tr th {\n",
              "        vertical-align: top;\n",
              "    }\n",
              "\n",
              "    .dataframe thead th {\n",
              "        text-align: right;\n",
              "    }\n",
              "</style>\n",
              "<table border=\"1\" class=\"dataframe\">\n",
              "  <thead>\n",
              "    <tr style=\"text-align: right;\">\n",
              "      <th></th>\n",
              "      <th>Time</th>\n",
              "      <th>V1</th>\n",
              "      <th>V2</th>\n",
              "      <th>V3</th>\n",
              "      <th>V4</th>\n",
              "      <th>V5</th>\n",
              "      <th>V6</th>\n",
              "      <th>V7</th>\n",
              "      <th>V8</th>\n",
              "      <th>V9</th>\n",
              "      <th>...</th>\n",
              "      <th>V20</th>\n",
              "      <th>V21</th>\n",
              "      <th>V22</th>\n",
              "      <th>V23</th>\n",
              "      <th>V24</th>\n",
              "      <th>V25</th>\n",
              "      <th>V26</th>\n",
              "      <th>V27</th>\n",
              "      <th>V28</th>\n",
              "      <th>Class</th>\n",
              "    </tr>\n",
              "  </thead>\n",
              "  <tbody>\n",
              "    <tr>\n",
              "      <th>0</th>\n",
              "      <td>0</td>\n",
              "      <td>0.766490</td>\n",
              "      <td>0.881365</td>\n",
              "      <td>0.313023</td>\n",
              "      <td>0.763439</td>\n",
              "      <td>0.267669</td>\n",
              "      <td>0.266815</td>\n",
              "      <td>0.786444</td>\n",
              "      <td>0.475312</td>\n",
              "      <td>0.510600</td>\n",
              "      <td>...</td>\n",
              "      <td>0.606004</td>\n",
              "      <td>0.522992</td>\n",
              "      <td>0.663793</td>\n",
              "      <td>0.391253</td>\n",
              "      <td>0.585122</td>\n",
              "      <td>0.394557</td>\n",
              "      <td>0.418976</td>\n",
              "      <td>0.312697</td>\n",
              "      <td>0.005824</td>\n",
              "      <td>0</td>\n",
              "    </tr>\n",
              "    <tr>\n",
              "      <th>1</th>\n",
              "      <td>0</td>\n",
              "      <td>0.770067</td>\n",
              "      <td>0.840298</td>\n",
              "      <td>0.271796</td>\n",
              "      <td>0.766120</td>\n",
              "      <td>0.262192</td>\n",
              "      <td>0.264875</td>\n",
              "      <td>0.786298</td>\n",
              "      <td>0.453981</td>\n",
              "      <td>0.505267</td>\n",
              "      <td>...</td>\n",
              "      <td>0.602393</td>\n",
              "      <td>0.480237</td>\n",
              "      <td>0.666938</td>\n",
              "      <td>0.336440</td>\n",
              "      <td>0.587290</td>\n",
              "      <td>0.446013</td>\n",
              "      <td>0.416345</td>\n",
              "      <td>0.313423</td>\n",
              "      <td>0.000105</td>\n",
              "      <td>0</td>\n",
              "    </tr>\n",
              "    <tr>\n",
              "      <th>2</th>\n",
              "      <td>1</td>\n",
              "      <td>0.753118</td>\n",
              "      <td>0.868141</td>\n",
              "      <td>0.268766</td>\n",
              "      <td>0.762329</td>\n",
              "      <td>0.281122</td>\n",
              "      <td>0.270177</td>\n",
              "      <td>0.788042</td>\n",
              "      <td>0.410603</td>\n",
              "      <td>0.513018</td>\n",
              "      <td>...</td>\n",
              "      <td>0.610640</td>\n",
              "      <td>0.546030</td>\n",
              "      <td>0.678939</td>\n",
              "      <td>0.289354</td>\n",
              "      <td>0.559515</td>\n",
              "      <td>0.402727</td>\n",
              "      <td>0.415489</td>\n",
              "      <td>0.311911</td>\n",
              "      <td>0.014739</td>\n",
              "      <td>0</td>\n",
              "    </tr>\n",
              "    <tr>\n",
              "      <th>3</th>\n",
              "      <td>1</td>\n",
              "      <td>0.765304</td>\n",
              "      <td>0.868484</td>\n",
              "      <td>0.213661</td>\n",
              "      <td>0.765647</td>\n",
              "      <td>0.275559</td>\n",
              "      <td>0.266803</td>\n",
              "      <td>0.789434</td>\n",
              "      <td>0.414999</td>\n",
              "      <td>0.507585</td>\n",
              "      <td>...</td>\n",
              "      <td>0.604438</td>\n",
              "      <td>0.510277</td>\n",
              "      <td>0.662607</td>\n",
              "      <td>0.223826</td>\n",
              "      <td>0.614245</td>\n",
              "      <td>0.389197</td>\n",
              "      <td>0.417669</td>\n",
              "      <td>0.314371</td>\n",
              "      <td>0.004807</td>\n",
              "      <td>0</td>\n",
              "    </tr>\n",
              "    <tr>\n",
              "      <th>4</th>\n",
              "      <td>2</td>\n",
              "      <td>0.776520</td>\n",
              "      <td>0.864251</td>\n",
              "      <td>0.269796</td>\n",
              "      <td>0.762975</td>\n",
              "      <td>0.263984</td>\n",
              "      <td>0.268968</td>\n",
              "      <td>0.782484</td>\n",
              "      <td>0.490950</td>\n",
              "      <td>0.524303</td>\n",
              "      <td>...</td>\n",
              "      <td>0.606159</td>\n",
              "      <td>0.547271</td>\n",
              "      <td>0.663392</td>\n",
              "      <td>0.401270</td>\n",
              "      <td>0.566343</td>\n",
              "      <td>0.507497</td>\n",
              "      <td>0.420561</td>\n",
              "      <td>0.317490</td>\n",
              "      <td>0.002724</td>\n",
              "      <td>0</td>\n",
              "    </tr>\n",
              "  </tbody>\n",
              "</table>\n",
              "<p>5 rows × 30 columns</p>\n",
              "</div>\n",
              "    <div class=\"colab-df-buttons\">\n",
              "\n",
              "  <div class=\"colab-df-container\">\n",
              "    <button class=\"colab-df-convert\" onclick=\"convertToInteractive('df-6df58ec7-3808-46df-94eb-284a80f5144c')\"\n",
              "            title=\"Convert this dataframe to an interactive table.\"\n",
              "            style=\"display:none;\">\n",
              "\n",
              "  <svg xmlns=\"http://www.w3.org/2000/svg\" height=\"24px\" viewBox=\"0 -960 960 960\">\n",
              "    <path d=\"M120-120v-720h720v720H120Zm60-500h600v-160H180v160Zm220 220h160v-160H400v160Zm0 220h160v-160H400v160ZM180-400h160v-160H180v160Zm440 0h160v-160H620v160ZM180-180h160v-160H180v160Zm440 0h160v-160H620v160Z\"/>\n",
              "  </svg>\n",
              "    </button>\n",
              "\n",
              "  <style>\n",
              "    .colab-df-container {\n",
              "      display:flex;\n",
              "      gap: 12px;\n",
              "    }\n",
              "\n",
              "    .colab-df-convert {\n",
              "      background-color: #E8F0FE;\n",
              "      border: none;\n",
              "      border-radius: 50%;\n",
              "      cursor: pointer;\n",
              "      display: none;\n",
              "      fill: #1967D2;\n",
              "      height: 32px;\n",
              "      padding: 0 0 0 0;\n",
              "      width: 32px;\n",
              "    }\n",
              "\n",
              "    .colab-df-convert:hover {\n",
              "      background-color: #E2EBFA;\n",
              "      box-shadow: 0px 1px 2px rgba(60, 64, 67, 0.3), 0px 1px 3px 1px rgba(60, 64, 67, 0.15);\n",
              "      fill: #174EA6;\n",
              "    }\n",
              "\n",
              "    .colab-df-buttons div {\n",
              "      margin-bottom: 4px;\n",
              "    }\n",
              "\n",
              "    [theme=dark] .colab-df-convert {\n",
              "      background-color: #3B4455;\n",
              "      fill: #D2E3FC;\n",
              "    }\n",
              "\n",
              "    [theme=dark] .colab-df-convert:hover {\n",
              "      background-color: #434B5C;\n",
              "      box-shadow: 0px 1px 3px 1px rgba(0, 0, 0, 0.15);\n",
              "      filter: drop-shadow(0px 1px 2px rgba(0, 0, 0, 0.3));\n",
              "      fill: #FFFFFF;\n",
              "    }\n",
              "  </style>\n",
              "\n",
              "    <script>\n",
              "      const buttonEl =\n",
              "        document.querySelector('#df-6df58ec7-3808-46df-94eb-284a80f5144c button.colab-df-convert');\n",
              "      buttonEl.style.display =\n",
              "        google.colab.kernel.accessAllowed ? 'block' : 'none';\n",
              "\n",
              "      async function convertToInteractive(key) {\n",
              "        const element = document.querySelector('#df-6df58ec7-3808-46df-94eb-284a80f5144c');\n",
              "        const dataTable =\n",
              "          await google.colab.kernel.invokeFunction('convertToInteractive',\n",
              "                                                    [key], {});\n",
              "        if (!dataTable) return;\n",
              "\n",
              "        const docLinkHtml = 'Like what you see? Visit the ' +\n",
              "          '<a target=\"_blank\" href=https://colab.research.google.com/notebooks/data_table.ipynb>data table notebook</a>'\n",
              "          + ' to learn more about interactive tables.';\n",
              "        element.innerHTML = '';\n",
              "        dataTable['output_type'] = 'display_data';\n",
              "        await google.colab.output.renderOutput(dataTable, element);\n",
              "        const docLink = document.createElement('div');\n",
              "        docLink.innerHTML = docLinkHtml;\n",
              "        element.appendChild(docLink);\n",
              "      }\n",
              "    </script>\n",
              "  </div>\n",
              "\n",
              "\n",
              "<div id=\"df-66d91130-3b04-409a-8219-c815ae30d062\">\n",
              "  <button class=\"colab-df-quickchart\" onclick=\"quickchart('df-66d91130-3b04-409a-8219-c815ae30d062')\"\n",
              "            title=\"Suggest charts\"\n",
              "            style=\"display:none;\">\n",
              "\n",
              "<svg xmlns=\"http://www.w3.org/2000/svg\" height=\"24px\"viewBox=\"0 0 24 24\"\n",
              "     width=\"24px\">\n",
              "    <g>\n",
              "        <path d=\"M19 3H5c-1.1 0-2 .9-2 2v14c0 1.1.9 2 2 2h14c1.1 0 2-.9 2-2V5c0-1.1-.9-2-2-2zM9 17H7v-7h2v7zm4 0h-2V7h2v10zm4 0h-2v-4h2v4z\"/>\n",
              "    </g>\n",
              "</svg>\n",
              "  </button>\n",
              "\n",
              "<style>\n",
              "  .colab-df-quickchart {\n",
              "      --bg-color: #E8F0FE;\n",
              "      --fill-color: #1967D2;\n",
              "      --hover-bg-color: #E2EBFA;\n",
              "      --hover-fill-color: #174EA6;\n",
              "      --disabled-fill-color: #AAA;\n",
              "      --disabled-bg-color: #DDD;\n",
              "  }\n",
              "\n",
              "  [theme=dark] .colab-df-quickchart {\n",
              "      --bg-color: #3B4455;\n",
              "      --fill-color: #D2E3FC;\n",
              "      --hover-bg-color: #434B5C;\n",
              "      --hover-fill-color: #FFFFFF;\n",
              "      --disabled-bg-color: #3B4455;\n",
              "      --disabled-fill-color: #666;\n",
              "  }\n",
              "\n",
              "  .colab-df-quickchart {\n",
              "    background-color: var(--bg-color);\n",
              "    border: none;\n",
              "    border-radius: 50%;\n",
              "    cursor: pointer;\n",
              "    display: none;\n",
              "    fill: var(--fill-color);\n",
              "    height: 32px;\n",
              "    padding: 0;\n",
              "    width: 32px;\n",
              "  }\n",
              "\n",
              "  .colab-df-quickchart:hover {\n",
              "    background-color: var(--hover-bg-color);\n",
              "    box-shadow: 0 1px 2px rgba(60, 64, 67, 0.3), 0 1px 3px 1px rgba(60, 64, 67, 0.15);\n",
              "    fill: var(--button-hover-fill-color);\n",
              "  }\n",
              "\n",
              "  .colab-df-quickchart-complete:disabled,\n",
              "  .colab-df-quickchart-complete:disabled:hover {\n",
              "    background-color: var(--disabled-bg-color);\n",
              "    fill: var(--disabled-fill-color);\n",
              "    box-shadow: none;\n",
              "  }\n",
              "\n",
              "  .colab-df-spinner {\n",
              "    border: 2px solid var(--fill-color);\n",
              "    border-color: transparent;\n",
              "    border-bottom-color: var(--fill-color);\n",
              "    animation:\n",
              "      spin 1s steps(1) infinite;\n",
              "  }\n",
              "\n",
              "  @keyframes spin {\n",
              "    0% {\n",
              "      border-color: transparent;\n",
              "      border-bottom-color: var(--fill-color);\n",
              "      border-left-color: var(--fill-color);\n",
              "    }\n",
              "    20% {\n",
              "      border-color: transparent;\n",
              "      border-left-color: var(--fill-color);\n",
              "      border-top-color: var(--fill-color);\n",
              "    }\n",
              "    30% {\n",
              "      border-color: transparent;\n",
              "      border-left-color: var(--fill-color);\n",
              "      border-top-color: var(--fill-color);\n",
              "      border-right-color: var(--fill-color);\n",
              "    }\n",
              "    40% {\n",
              "      border-color: transparent;\n",
              "      border-right-color: var(--fill-color);\n",
              "      border-top-color: var(--fill-color);\n",
              "    }\n",
              "    60% {\n",
              "      border-color: transparent;\n",
              "      border-right-color: var(--fill-color);\n",
              "    }\n",
              "    80% {\n",
              "      border-color: transparent;\n",
              "      border-right-color: var(--fill-color);\n",
              "      border-bottom-color: var(--fill-color);\n",
              "    }\n",
              "    90% {\n",
              "      border-color: transparent;\n",
              "      border-bottom-color: var(--fill-color);\n",
              "    }\n",
              "  }\n",
              "</style>\n",
              "\n",
              "  <script>\n",
              "    async function quickchart(key) {\n",
              "      const quickchartButtonEl =\n",
              "        document.querySelector('#' + key + ' button');\n",
              "      quickchartButtonEl.disabled = true;  // To prevent multiple clicks.\n",
              "      quickchartButtonEl.classList.add('colab-df-spinner');\n",
              "      try {\n",
              "        const charts = await google.colab.kernel.invokeFunction(\n",
              "            'suggestCharts', [key], {});\n",
              "      } catch (error) {\n",
              "        console.error('Error during call to suggestCharts:', error);\n",
              "      }\n",
              "      quickchartButtonEl.classList.remove('colab-df-spinner');\n",
              "      quickchartButtonEl.classList.add('colab-df-quickchart-complete');\n",
              "    }\n",
              "    (() => {\n",
              "      let quickchartButtonEl =\n",
              "        document.querySelector('#df-66d91130-3b04-409a-8219-c815ae30d062 button');\n",
              "      quickchartButtonEl.style.display =\n",
              "        google.colab.kernel.accessAllowed ? 'block' : 'none';\n",
              "    })();\n",
              "  </script>\n",
              "</div>\n",
              "\n",
              "    </div>\n",
              "  </div>\n"
            ],
            "application/vnd.google.colaboratory.intrinsic+json": {
              "type": "dataframe"
            }
          },
          "metadata": {},
          "execution_count": 22
        }
      ]
    },
    {
      "cell_type": "markdown",
      "source": [
        "# 6. Handling outliers"
      ],
      "metadata": {
        "id": "dj6KcqVRPNSW"
      }
    },
    {
      "cell_type": "code",
      "source": [
        "# Assuming Amount column has outliers\n",
        "Q1 = X['Amount'].quantile(0.25)\n",
        "Q3 = X['Amount'].quantile(0.75)\n",
        "IQR = Q3 - Q1\n",
        "X['Amount'] = np.clip(X['Amount'], Q1 - 1.5 * IQR, Q3 + 1.5 * IQR)\n"
      ],
      "metadata": {
        "id": "Vq1ry5yFhhsU"
      },
      "execution_count": 23,
      "outputs": []
    },
    {
      "cell_type": "markdown",
      "source": [
        "# 7. Feature scaling"
      ],
      "metadata": {
        "id": "seTJ-zFWPVpX"
      }
    },
    {
      "cell_type": "code",
      "source": [
        "scaler = StandardScaler()\n",
        "X_scaled = scaler.fit_transform(X)"
      ],
      "metadata": {
        "id": "lBeVMP9vhhfa"
      },
      "execution_count": 24,
      "outputs": []
    },
    {
      "cell_type": "markdown",
      "source": [
        "# 8. Handle imbalance with SMOTE"
      ],
      "metadata": {
        "id": "CNlIaTlOPeZW"
      }
    },
    {
      "cell_type": "code",
      "source": [
        "X = credit_card_data.drop(columns='Class', axis=1)\n",
        "Y = credit_card_data['Class']\n",
        "smote = SMOTE(random_state=42)\n",
        "X_res, Y_res = smote.fit_resample(X, Y)"
      ],
      "metadata": {
        "id": "satFhPz9gr-B"
      },
      "execution_count": 25,
      "outputs": []
    },
    {
      "cell_type": "markdown",
      "source": [
        "# 9. Correlation matrix"
      ],
      "metadata": {
        "id": "EntrWN1LPn3J"
      }
    },
    {
      "cell_type": "code",
      "source": [
        "from matplotlib import rcParams\n",
        "import matplotlib.pyplot as plt\n",
        "from sklearn.ensemble import RandomForestClassifier as Featuree\n",
        "from matplotlib.cm import rainbow\n",
        "%matplotlib inline\n",
        "rcParams['figure.figsize'] = 2000, 1400\n",
        "plt.matshow(credit_card_data.corr())\n",
        "plt.yticks(np.arange(credit_card_data.shape[1]), credit_card_data.columns)\n",
        "plt.xticks(np.arange(credit_card_data.shape[1]), credit_card_data.columns)\n",
        "plt.colorbar()\n",
        "plt.savefig('cor.png')"
      ],
      "metadata": {
        "colab": {
          "base_uri": "https://localhost:8080/",
          "height": 1000
        },
        "id": "oz1lg1IFi2Nh",
        "outputId": "e4618928-60b5-4013-88c4-3225f055f670"
      },
      "execution_count": 27,
      "outputs": [
        {
          "output_type": "display_data",
          "data": {
            "text/plain": [
              "<Figure size 1600x1600 with 2 Axes>"
            ],
            "image/png": "[encoded data removed]"
          },
          "metadata": {}
        }
      ]
    },
    {
      "cell_type": "markdown",
      "source": [
        "# 10. Split the data into Training data & Testing Data"
      ],
      "metadata": {
        "id": "DVZpB3w9PvQZ"
      }
    },
    {
      "cell_type": "code",
      "source": [
        "X_train, X_test, Y_train, Y_test = train_test_split(X_res, Y_res, test_size=0.2, stratify=Y_res, random_state=2)"
      ],
      "metadata": {
        "id": "sAK1xW76i2K0"
      },
      "execution_count": 28,
      "outputs": []
    },
    {
      "cell_type": "code",
      "source": [
        "print(X.shape, X_train.shape, X_test.shape)"
      ],
      "metadata": {
        "colab": {
          "base_uri": "https://localhost:8080/"
        },
        "id": "ZYM0PQ2ji2IC",
        "outputId": "3a1fcd29-e843-44bf-b2d9-3b9b56b2ff0f"
      },
      "execution_count": 29,
      "outputs": [
        {
          "output_type": "stream",
          "name": "stdout",
          "text": [
            "(282953, 30) (451988, 30) (112998, 30)\n"
          ]
        }
      ]
    },
    {
      "cell_type": "markdown",
      "source": [
        "# 11. Model Training"
      ],
      "metadata": {
        "id": "KMwueKW_P2-9"
      }
    },
    {
      "cell_type": "code",
      "source": [
        "from sklearn.model_selection import train_test_split, RandomizedSearchCV\n",
        "from sklearn.linear_model import LogisticRegression\n",
        "from sklearn.metrics import accuracy_score, classification_report\n",
        "from scipy.stats import uniform\n",
        "\n",
        "# Assuming X and Y are already defined as your data and target variables\n",
        "\n",
        "# Split the data\n",
        "X_train, X_test, Y_train, Y_test = train_test_split(X, Y, test_size=0.2, stratify=Y, random_state=2)\n",
        "print(X.shape, X_train.shape, X_test.shape)\n",
        "\n",
        "# Define the Logistic Regression model\n",
        "model = LogisticRegression(solver='liblinear')\n",
        "\n",
        "# Define the parameter grid\n",
        "param_grid = {\n",
        "    'C': uniform(loc=0, scale=4),  # Continuous values for regularization strength\n",
        "    'penalty': ['l1', 'l2']  # Different types of regularization\n",
        "}\n",
        "\n",
        "# Set up the RandomizedSearchCV\n",
        "random_search = RandomizedSearchCV(model, param_grid, n_iter=100, cv=5, random_state=2, n_jobs=-1)\n",
        "\n",
        "# Fit the model using RandomizedSearchCV\n",
        "random_search.fit(X_train, Y_train)\n",
        "\n",
        "# Best parameters and score\n",
        "best_params = random_search.best_params_\n",
        "best_score = random_search.best_score_\n",
        "print(f\"Best Parameters: {best_params}\")\n",
        "print(f\"Best Cross-Validation Score: {best_score:.4f}\")\n",
        "\n",
        "# Train with best parameters\n",
        "best_model = random_search.best_estimator_\n",
        "\n",
        "# Make predictions and evaluate\n",
        "Y_pred = best_model.predict(X_test)\n",
        "accuracy = accuracy_score(Y_test, Y_pred)\n",
        "print(f\"Accuracy on Test Data: {accuracy:.4f}\")\n",
        "\n",
        "# Detailed classification report\n",
        "report = classification_report(Y_test, Y_pred)\n",
        "print(f\"Classification Report:\\n{report}\")\n"
      ],
      "metadata": {
        "colab": {
          "base_uri": "https://localhost:8080/"
        },
        "id": "NQCHUI6Ai2CF",
        "outputId": "55b42cfa-fcd3-47df-b068-f46d6119983f"
      },
      "execution_count": 36,
      "outputs": [
        {
          "output_type": "stream",
          "name": "stdout",
          "text": [
            "(282953, 30) (226362, 30) (56591, 30)\n",
            "Best Parameters: {'C': 1.7101838531844402, 'penalty': 'l1'}\n",
            "Best Cross-Validation Score: 0.9992\n",
            "Accuracy on Test Data: 0.9993\n",
            "Classification Report:\n",
            "              precision    recall  f1-score   support\n",
            "\n",
            "           0       1.00      1.00      1.00     56499\n",
            "           1       0.89      0.62      0.73        92\n",
            "\n",
            "    accuracy                           1.00     56591\n",
            "   macro avg       0.95      0.81      0.87     56591\n",
            "weighted avg       1.00      1.00      1.00     56591\n",
            "\n"
          ]
        }
      ]
    },
    {
      "cell_type": "markdown",
      "source": [
        "# 12. Model Evaluation"
      ],
      "metadata": {
        "id": "E4j_8mQtQA22"
      }
    },
    {
      "cell_type": "code",
      "source": [
        "# Train with best parameters\n",
        "best_model = random_search.best_estimator_\n",
        "\n",
        "# Make predictions and evaluate\n",
        "Y_pred_train = best_model.predict(X_train)\n",
        "Y_pred_test = best_model.predict(X_test)"
      ],
      "metadata": {
        "id": "yQesT3gmkHbj"
      },
      "execution_count": 40,
      "outputs": []
    },
    {
      "cell_type": "markdown",
      "source": [
        "# 13. Predicting results"
      ],
      "metadata": {
        "id": "-PGiseytQHam"
      }
    },
    {
      "cell_type": "code",
      "source": [
        "\n",
        "training_accuracy = accuracy_score(Y_train, Y_pred_train)\n",
        "test_accuracy = accuracy_score(Y_test, Y_pred_test)\n",
        "precision = classification_report(Y_test, Y_pred_test, output_dict=True)['weighted avg']['precision']\n",
        "recall = classification_report(Y_test, Y_pred_test, output_dict=True)['weighted avg']['recall']\n",
        "f1_score = classification_report(Y_test, Y_pred_test, output_dict=True)['weighted avg']['f1-score']\n",
        "roc_auc = roc_auc_score(Y_test, best_model.predict_proba(X_test)[:, 1])\n",
        "conf_matrix = confusion_matrix(Y_test, Y_pred_test)"
      ],
      "metadata": {
        "id": "f7r6zeThkHYL"
      },
      "execution_count": 41,
      "outputs": []
    },
    {
      "cell_type": "code",
      "source": [
        "# Store results in a dictionary\n",
        "result = {\n",
        "    'Model': 'Logistic Regression',\n",
        "    'Best Parameters': best_params,\n",
        "    'Best ROC-AUC Score': best_score,\n",
        "    'Training Accuracy': training_accuracy,\n",
        "    'Test Accuracy': test_accuracy,\n",
        "    'Precision': precision,\n",
        "    'Recall': recall,\n",
        "    'F1-Score': f1_score,\n",
        "    'ROC-AUC': roc_auc,\n",
        "    'Confusion Matrix': conf_matrix\n",
        "}"
      ],
      "metadata": {
        "id": "nekRBcEgkHVE"
      },
      "execution_count": 42,
      "outputs": []
    },
    {
      "cell_type": "markdown",
      "source": [
        "# 14. Results interpreted"
      ],
      "metadata": {
        "id": "P3JqRQQGQTC-"
      }
    },
    {
      "cell_type": "code",
      "source": [
        "# Print results\n",
        "print(f\"\\nResults for {result['Model']} Model:\")\n",
        "print('Best Parameters:', result['Best Parameters'])\n",
        "print('Best ROC-AUC Score:', result['Best ROC-AUC Score'])\n",
        "print('Accuracy on Training data: {:.2f}'.format(result['Training Accuracy']))\n",
        "print('Accuracy on Test data: {:.2f}'.format(result['Test Accuracy']))\n",
        "print('Precision: {:.2f}'.format(result['Precision']))\n",
        "print('Recall: {:.2f}'.format(result['Recall']))\n",
        "print('F1-Score: {:.2f}'.format(result['F1-Score']))\n",
        "print('ROC-AUC: {:.2f}'.format(result['ROC-AUC']))\n",
        "print('Confusion Matrix:\\n', result['Confusion Matrix'])"
      ],
      "metadata": {
        "colab": {
          "base_uri": "https://localhost:8080/"
        },
        "id": "2PM-dyh6kHR_",
        "outputId": "4f693971-351d-4a51-ad1b-40658e6e8bb1"
      },
      "execution_count": 43,
      "outputs": [
        {
          "output_type": "stream",
          "name": "stdout",
          "text": [
            "\n",
            "Results for Logistic Regression Model:\n",
            "Best Parameters: {'C': 1.7101838531844402, 'penalty': 'l1'}\n",
            "Best ROC-AUC Score: 0.9991871429523977\n",
            "Accuracy on Training data: 1.00\n",
            "Accuracy on Test data: 1.00\n",
            "Precision: 1.00\n",
            "Recall: 1.00\n",
            "F1-Score: 1.00\n",
            "ROC-AUC: 0.98\n",
            "Confusion Matrix:\n",
            " [[56492     7]\n",
            " [   35    57]]\n"
          ]
        }
      ]
    },
    {
      "cell_type": "markdown",
      "source": [
        "# Conclusion\n",
        "The Logistic Regression model, optimized using RandomizedSearchCV, performed well on the classification task. The model's accuracy, precision, recall, F1-score, and ROC-AUC score indicate that it is a reliable and effective model for this dataset. The confusion matrix further confirms the model's robustness, showing a balanced performance in predicting both classes.\n",
        "\n",
        "This project demonstrates the effectiveness of using RandomizedSearchCV for hyperparameter tuning within a limited time frame, providing a good balance between efficiency and model performance. Future work can explore more advanced models and techniques to further enhance performance, such as ensemble methods or deep learning approaches.\n",
        "\n",
        "Overall, the project successfully developed and evaluated a logistic regression model with solid performance metrics, contributing valuable insights into the classification problem at hand."
      ],
      "metadata": {
        "id": "x1oOJJzgRags"
      }
    }
  ]
}